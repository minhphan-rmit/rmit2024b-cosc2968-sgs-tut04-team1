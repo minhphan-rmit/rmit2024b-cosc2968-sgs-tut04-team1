{
 "cells": [
  {
   "cell_type": "markdown",
   "metadata": {},
   "source": [
    "Data exploration\n",
    "PEARSON --> continous\n",
    "cramer/phi-k --> non nominal"
   ]
  },
  {
   "cell_type": "markdown",
   "metadata": {},
   "source": [
    "text"
   ]
  },
  {
   "cell_type": "code",
   "execution_count": null,
   "metadata": {},
   "outputs": [],
   "source": [
    "text\n",
    "'Country_Name','State_Island_Province_Name','City_Town_Name','Site_Name','Ecoregion_Name'"
   ]
  },
  {
   "cell_type": "markdown",
   "metadata": {},
   "source": [
    "unsupported"
   ]
  },
  {
   "cell_type": "code",
   "execution_count": null,
   "metadata": {},
   "outputs": [],
   "source": [
    "'Distance_to_Shore','Turbidity','Percent_Bleaching'"
   ]
  },
  {
   "cell_type": "markdown",
   "metadata": {},
   "source": [
    "cat"
   ]
  },
  {
   "cell_type": "code",
   "execution_count": null,
   "metadata": {},
   "outputs": [],
   "source": [
    "'Exposure','Substrate_Name'\n",
    "'Data_Source','Ocean_Name','Realm_Name','Exposure',\n",
    "'Windspeed'\n",
    "#remove\n",
    "'Bleaching_Level', 'SSTA_Mean'\n"
   ]
  },
  {
   "cell_type": "markdown",
   "metadata": {},
   "source": [
    "num"
   ]
  },
  {
   "cell_type": "code",
   "execution_count": null,
   "metadata": {},
   "outputs": [],
   "source": [
    "'Latitude_Degrees\t','Longitude_Degrees\t', \n",
    "'Cyclone_Frequency','Date_Day','Date_Month','Date_Year'"
   ]
  },
  {
   "cell_type": "markdown",
   "metadata": {},
   "source": [
    "convert to num"
   ]
  },
  {
   "cell_type": "code",
   "execution_count": null,
   "metadata": {},
   "outputs": [],
   "source": [
    "'Percent_Cover','Depth_m','ClimSST','Temperature_Kelvin','Temperature_Mean','Temperature_Minimum','Temperature_Maximum'\n",
    "'Temperature_Kelvin_Standard_Deviation'\n",
    "'Windspeed'\n",
    "'SSTA','SSTA_Standard_Deviation','SSTA_Mean','SSTA_Minimum','SSTA_Maximum','SSTA_Frequency'\n",
    "'SSTA_Frequency_Standard_Deviation','SSTA_FrequencyMax','SSTA_FrequencyMean'\n",
    "'SSTA_DHW','SSTA_DHW_Standard_Deviation','SSTA_DHWMax','SSTA_DHWMean',\n",
    "'TSA','TSA_Standard_Deviation','TSA_Minimum','TSA_Maximum','TSA_Mean',\n",
    "'TSA_Frequency','TSA_Frequency_Standard_Deviation','TSA_FrequencyMax','TSA_FrequencyMean'\n",
    "'TSA_DHW','TSA_DHW_Standard_Deviation','TSA_DHWMax','TSA_DHWMean'\n",
    "\n",
    "\n"
   ]
  },
  {
   "cell_type": "code",
   "execution_count": null,
   "metadata": {},
   "outputs": [],
   "source": []
  }
 ],
 "metadata": {
  "language_info": {
   "name": "python"
  }
 },
 "nbformat": 4,
 "nbformat_minor": 2
}
