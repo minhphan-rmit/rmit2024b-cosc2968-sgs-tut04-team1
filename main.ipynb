{
 "cells": [
  {
   "cell_type": "markdown",
   "metadata": {},
   "source": [
    "# <span style=\"color:#E888BB; font-size: 0%;\">Introduction</span>\n",
    "<div \n",
    "    style=\"\n",
    "        padding: 30px; \n",
    "        color: white; \n",
    "        margin: 10px; \n",
    "        font-size: 170%; \n",
    "        text-align: left; \n",
    "        display: center; \n",
    "        border-radius: 10px; \n",
    "        background-color: rgba(0, 0, 0, 0.2);  /* Dark overlay */\n",
    "        overflow: hidden; \n",
    "        background-image: url(https://i.ibb.co/1fn8BZj/image4.webp); \n",
    "        background-size: cover; \n",
    "        background-position: center;\n",
    "        background-blend-mode: darken;  /* Blend the dark overlay with the image */\n",
    "    \"\n",
    ">\n",
    "    <b><span style='color: white;'>Introduction</span></b>\n",
    "</div>"
   ]
  },
  {
   "cell_type": "markdown",
   "metadata": {},
   "source": [
    "# <span style=\"color:#E888BB; font-size: 0%;\">Environment Setup</span>\n",
    "<div \n",
    "    style=\"\n",
    "        padding: 30px; \n",
    "        color: white; \n",
    "        margin: 10px; \n",
    "        font-size: 170%; \n",
    "        text-align: left; \n",
    "        display: center; \n",
    "        border-radius: 10px; \n",
    "        background-color: rgba(0, 0, 0, 0.2);  /* Dark overlay */\n",
    "        overflow: hidden; \n",
    "        background-image: url(https://i.ibb.co/1fn8BZj/image4.webp); \n",
    "        background-size: cover; \n",
    "        background-position: center;\n",
    "        background-blend-mode: darken;  /* Blend the dark overlay with the image */\n",
    "    \"\n",
    ">\n",
    "    <b><span style='color: white;'>Environment Setup</span></b>\n",
    "</div>"
   ]
  },
  {
   "cell_type": "markdown",
   "metadata": {},
   "source": [
    "# <span style=\"color:#E888BB; font-size: 0%;\">Exploratory Data Analysis (EDA)</span>\n",
    "<div \n",
    "    style=\"\n",
    "        padding: 30px; \n",
    "        color: white; \n",
    "        margin: 10px; \n",
    "        font-size: 170%; \n",
    "        text-align: left; \n",
    "        display: center; \n",
    "        border-radius: 10px; \n",
    "        background-color: rgba(0, 0, 0, 0.2);  /* Dark overlay */\n",
    "        overflow: hidden; \n",
    "        background-image: url(https://i.ibb.co/1fn8BZj/image4.webp); \n",
    "        background-size: cover; \n",
    "        background-position: center;\n",
    "        background-blend-mode: darken;  /* Blend the dark overlay with the image */\n",
    "    \"\n",
    ">\n",
    "    <b><span style='color: white;'>Exploratory Data Analysis (EDA)</span></b>\n",
    "</div>"
   ]
  },
  {
   "cell_type": "markdown",
   "metadata": {},
   "source": [
    "# <span style=\"color:#E888BB; font-size: 0%;\">Data Preprocessing</span>\n",
    "<div \n",
    "    style=\"\n",
    "        padding: 30px; \n",
    "        color: white; \n",
    "        margin: 10px; \n",
    "        font-size: 170%; \n",
    "        text-align: left; \n",
    "        display: center; \n",
    "        border-radius: 10px; \n",
    "        background-color: rgba(0, 0, 0, 0.2);  /* Dark overlay */\n",
    "        overflow: hidden; \n",
    "        background-image: url(https://i.ibb.co/1fn8BZj/image4.webp); \n",
    "        background-size: cover; \n",
    "        background-position: center;\n",
    "        background-blend-mode: darken;  /* Blend the dark overlay with the image */\n",
    "    \"\n",
    ">\n",
    "    <b><span style='color: white;'>Data Preprocessing</span></b>\n",
    "</div>"
   ]
  },
  {
   "cell_type": "markdown",
   "metadata": {},
   "source": [
    "# <span style=\"color:#E888BB; font-size: 0%;\">Modeling</span>\n",
    "<div \n",
    "    style=\"\n",
    "        padding: 30px; \n",
    "        color: white; \n",
    "        margin: 10px; \n",
    "        font-size: 170%; \n",
    "        text-align: left; \n",
    "        display: center; \n",
    "        border-radius: 10px; \n",
    "        background-color: rgba(0, 0, 0, 0.2);  /* Dark overlay */\n",
    "        overflow: hidden; \n",
    "        background-image: url(https://i.ibb.co/1fn8BZj/image4.webp); \n",
    "        background-size: cover; \n",
    "        background-position: center;\n",
    "        background-blend-mode: darken;  /* Blend the dark overlay with the image */\n",
    "    \"\n",
    ">\n",
    "    <b><span style='color: white;'>Modeling</span></b>\n",
    "</div>"
   ]
  },
  {
   "cell_type": "markdown",
   "metadata": {},
   "source": [
    "# <span style=\"color:#E888BB; font-size: 0%;\">Hyperparameter Tuning</span>\n",
    "<div \n",
    "    style=\"\n",
    "        padding: 30px; \n",
    "        color: white; \n",
    "        margin: 10px; \n",
    "        font-size: 170%; \n",
    "        text-align: left; \n",
    "        display: center; \n",
    "        border-radius: 10px; \n",
    "        background-color: rgba(0, 0, 0, 0.2);  /* Dark overlay */\n",
    "        overflow: hidden; \n",
    "        background-image: url(https://i.ibb.co/1fn8BZj/image4.webp); \n",
    "        background-size: cover; \n",
    "        background-position: center;\n",
    "        background-blend-mode: darken;  /* Blend the dark overlay with the image */\n",
    "    \"\n",
    ">\n",
    "    <b><span style='color: white;'>Hyperparameter Tuning</span></b>\n",
    "</div>"
   ]
  },
  {
   "cell_type": "markdown",
   "metadata": {},
   "source": [
    "# <span style=\"color:#E888BB; font-size: 0%;\">Final Model and Conclusion</span>\n",
    "<div \n",
    "    style=\"\n",
    "        padding: 30px; \n",
    "        color: white; \n",
    "        margin: 10px; \n",
    "        font-size: 170%; \n",
    "        text-align: left; \n",
    "        display: center; \n",
    "        border-radius: 10px; \n",
    "        background-color: rgba(0, 0, 0, 0.2);  /* Dark overlay */\n",
    "        overflow: hidden; \n",
    "        background-image: url(https://i.ibb.co/1fn8BZj/image4.webp); \n",
    "        background-size: cover; \n",
    "        background-position: center;\n",
    "        background-blend-mode: darken;  /* Blend the dark overlay with the image */\n",
    "    \"\n",
    ">\n",
    "    <b><span style='color: white;'>Final Model and Conclusion</span></b>\n",
    "</div>"
   ]
  },
  {
   "cell_type": "markdown",
   "metadata": {},
   "source": [
    "<br>\n",
    "\n",
    "![](./image/image7.webp)\n",
    "\n",
    "<br>"
   ]
  },
  {
   "cell_type": "markdown",
   "metadata": {},
   "source": [
    "# <span style=\"color:#E888BB; font-size: 0%;\">References</span>\n",
    "<div \n",
    "    style=\"\n",
    "        padding: 30px; \n",
    "        color: white; \n",
    "        margin: 10px; \n",
    "        font-size: 170%; \n",
    "        text-align: left; \n",
    "        display: center; \n",
    "        border-radius: 10px; \n",
    "        background-color: rgba(0, 0, 0, 0.2);  /* Dark overlay */\n",
    "        overflow: hidden; \n",
    "        background-image: url(https://i.ibb.co/1fn8BZj/image4.webp); \n",
    "        background-size: cover; \n",
    "        background-position: center;\n",
    "        background-blend-mode: darken;  /* Blend the dark overlay with the image */\n",
    "    \"\n",
    ">\n",
    "    <b><span style='color: white;'>References</span></b>\n",
    "</div>"
   ]
  }
 ],
 "metadata": {
  "kernelspec": {
   "display_name": "base",
   "language": "python",
   "name": "python3"
  },
  "language_info": {
   "codemirror_mode": {
    "name": "ipython",
    "version": 3
   },
   "file_extension": ".py",
   "mimetype": "text/x-python",
   "name": "python",
   "nbconvert_exporter": "python",
   "pygments_lexer": "ipython3",
   "version": "3.12.4"
  }
 },
 "nbformat": 4,
 "nbformat_minor": 2
}
